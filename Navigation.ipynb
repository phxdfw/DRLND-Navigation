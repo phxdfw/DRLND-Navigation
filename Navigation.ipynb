{
 "cells": [
  {
   "cell_type": "markdown",
   "metadata": {},
   "source": [
    "# Navigation\n",
    "\n",
    "---\n",
    "\n",
    "You are welcome to use this coding environment to train your agent for the project.  Follow the instructions below to get started!\n",
    "\n",
    "### 1. Start the Environment\n",
    "\n",
    "Run the next code cell to install a few packages.  This line will take a few minutes to run!"
   ]
  },
  {
   "cell_type": "code",
   "execution_count": 1,
   "metadata": {},
   "outputs": [
    {
     "name": "stdout",
     "output_type": "stream",
     "text": [
      "\u001b[31mtensorflow 1.7.1 has requirement numpy>=1.13.3, but you'll have numpy 1.12.1 which is incompatible.\u001b[0m\r\n",
      "\u001b[31mipython 6.5.0 has requirement prompt-toolkit<2.0.0,>=1.0.15, but you'll have prompt-toolkit 3.0.5 which is incompatible.\u001b[0m\r\n"
     ]
    }
   ],
   "source": [
    "!pip -q install ./python"
   ]
  },
  {
   "cell_type": "code",
   "execution_count": 2,
   "metadata": {},
   "outputs": [
    {
     "name": "stdout",
     "output_type": "stream",
     "text": [
      "Collecting numpy==1.15.4\n",
      "\u001b[?25l  Downloading https://files.pythonhosted.org/packages/ff/7f/9d804d2348471c67a7d8b5f84f9bc59fd1cefa148986f2b74552f8573555/numpy-1.15.4-cp36-cp36m-manylinux1_x86_64.whl (13.9MB)\n",
      "\u001b[K    100% |████████████████████████████████| 13.9MB 2.6MB/s eta 0:00:01\n",
      "\u001b[?25hInstalling collected packages: numpy\n",
      "  Found existing installation: numpy 1.12.1\n",
      "    Uninstalling numpy-1.12.1:\n",
      "      Successfully uninstalled numpy-1.12.1\n",
      "Successfully installed numpy-1.15.4\n"
     ]
    }
   ],
   "source": [
    "!pip install numpy==1.15.4"
   ]
  },
  {
   "cell_type": "markdown",
   "metadata": {},
   "source": [
    "The environment is already saved in the Workspace and can be accessed at the file path provided below.  Please run the next code cell without making any changes."
   ]
  },
  {
   "cell_type": "code",
   "execution_count": 3,
   "metadata": {},
   "outputs": [
    {
     "name": "stderr",
     "output_type": "stream",
     "text": [
      "INFO:unityagents:\n",
      "'Academy' started successfully!\n",
      "Unity Academy name: Academy\n",
      "        Number of Brains: 1\n",
      "        Number of External Brains : 1\n",
      "        Lesson number : 0\n",
      "        Reset Parameters :\n",
      "\t\t\n",
      "Unity brain name: BananaBrain\n",
      "        Number of Visual Observations (per agent): 0\n",
      "        Vector Observation space type: continuous\n",
      "        Vector Observation space size (per agent): 37\n",
      "        Number of stacked Vector Observation: 1\n",
      "        Vector Action space type: discrete\n",
      "        Vector Action space size (per agent): 4\n",
      "        Vector Action descriptions: , , , \n"
     ]
    }
   ],
   "source": [
    "from unityagents import UnityEnvironment\n",
    "import numpy as np\n",
    "\n",
    "# please do not modify the line below\n",
    "env = UnityEnvironment(file_name=\"/data/Banana_Linux_NoVis/Banana.x86_64\")"
   ]
  },
  {
   "cell_type": "markdown",
   "metadata": {},
   "source": [
    "Environments contain **_brains_** which are responsible for deciding the actions of their associated agents. Here we check for the first brain available, and set it as the default brain we will be controlling from Python."
   ]
  },
  {
   "cell_type": "code",
   "execution_count": 4,
   "metadata": {},
   "outputs": [],
   "source": [
    "# get the default brain\n",
    "brain_name = env.brain_names[0]\n",
    "brain = env.brains[brain_name]"
   ]
  },
  {
   "cell_type": "markdown",
   "metadata": {},
   "source": [
    "### 2. Examine the State and Action Spaces\n",
    "\n",
    "Run the code cell below to print some information about the environment."
   ]
  },
  {
   "cell_type": "code",
   "execution_count": 5,
   "metadata": {},
   "outputs": [
    {
     "name": "stdout",
     "output_type": "stream",
     "text": [
      "Number of agents: 1\n",
      "Number of actions: 4\n",
      "States look like: [1.         0.         0.         0.         0.84408134 0.\n",
      " 0.         1.         0.         0.0748472  0.         1.\n",
      " 0.         0.         0.25755    1.         0.         0.\n",
      " 0.         0.74177343 0.         1.         0.         0.\n",
      " 0.25854847 0.         0.         1.         0.         0.09355672\n",
      " 0.         1.         0.         0.         0.31969345 0.\n",
      " 0.        ]\n",
      "States have length: 37\n"
     ]
    }
   ],
   "source": [
    "# reset the environment\n",
    "env_info = env.reset(train_mode=True)[brain_name]\n",
    "\n",
    "# number of agents in the environment\n",
    "print('Number of agents:', len(env_info.agents))\n",
    "\n",
    "# number of actions\n",
    "action_size = brain.vector_action_space_size\n",
    "print('Number of actions:', action_size)\n",
    "\n",
    "# examine the state space \n",
    "state = env_info.vector_observations[0]\n",
    "print('States look like:', state)\n",
    "state_size = len(state)\n",
    "print('States have length:', state_size)"
   ]
  },
  {
   "cell_type": "markdown",
   "metadata": {},
   "source": [
    "### 3. Take Random Actions in the Environment\n",
    "\n",
    "In the next code cell, you will learn how to use the Python API to control the agent and receive feedback from the environment.\n",
    "\n",
    "Note that **in this coding environment, you will not be able to watch the agent while it is training**, and you should set `train_mode=True` to restart the environment."
   ]
  },
  {
   "cell_type": "code",
   "execution_count": 6,
   "metadata": {},
   "outputs": [
    {
     "name": "stdout",
     "output_type": "stream",
     "text": [
      "Score: 0.0\n"
     ]
    }
   ],
   "source": [
    "env_info = env.reset(train_mode=True)[brain_name] # reset the environment\n",
    "state = env_info.vector_observations[0]            # get the current state\n",
    "score = 0                                          # initialize the score\n",
    "while True:\n",
    "    action = np.random.randint(action_size)        # select an action\n",
    "    env_info = env.step(action)[brain_name]        # send the action to the environment\n",
    "    next_state = env_info.vector_observations[0]   # get the next state\n",
    "    reward = env_info.rewards[0]                   # get the reward\n",
    "    done = env_info.local_done[0]                  # see if episode has finished\n",
    "    score += reward                                # update the score\n",
    "    state = next_state                             # roll over the state to next time step\n",
    "    if done:                                       # exit loop if episode finished\n",
    "        break\n",
    "    \n",
    "print(\"Score: {}\".format(score))"
   ]
  },
  {
   "cell_type": "markdown",
   "metadata": {},
   "source": [
    "When finished, you can close the environment."
   ]
  },
  {
   "cell_type": "code",
   "execution_count": 7,
   "metadata": {},
   "outputs": [],
   "source": [
    "# env.close()"
   ]
  },
  {
   "cell_type": "markdown",
   "metadata": {},
   "source": [
    "### 4. It's Your Turn!\n",
    "\n",
    "Now it's your turn to train your own agent to solve the environment!  A few **important notes**:\n",
    "- When training the environment, set `train_mode=True`, so that the line for resetting the environment looks like the following:\n",
    "```python\n",
    "env_info = env.reset(train_mode=True)[brain_name]\n",
    "```\n",
    "- To structure your work, you're welcome to work directly in this Jupyter notebook, or you might like to start over with a new file!  You can see the list of files in the workspace by clicking on **_Jupyter_** in the top left corner of the notebook.\n",
    "- In this coding environment, you will not be able to watch the agent while it is training.  However, **_after training the agent_**, you can download the saved model weights to watch the agent on your own machine! "
   ]
  },
  {
   "cell_type": "code",
   "execution_count": 7,
   "metadata": {},
   "outputs": [],
   "source": [
    "import matplotlib.pyplot as plt\n",
    "%matplotlib inline\n",
    "\n",
    "import os\n",
    "import torch\n",
    "import torch.nn as nn\n",
    "import torch.nn.functional as F\n",
    "import torch.optim as optim\n",
    "\n",
    "from collections import deque"
   ]
  },
  {
   "cell_type": "code",
   "execution_count": 8,
   "metadata": {},
   "outputs": [],
   "source": [
    "from dqn_agent import Agent\n",
    "\n",
    "agent = Agent(state_size=37, action_size=4, seed=0)"
   ]
  },
  {
   "cell_type": "code",
   "execution_count": 11,
   "metadata": {},
   "outputs": [
    {
     "name": "stdout",
     "output_type": "stream",
     "text": [
      "Episode 100\tAverage Score: 1.97\n",
      "Episode 200\tAverage Score: 6.89\n",
      "Episode 300\tAverage Score: 9.80\n",
      "Episode 400\tAverage Score: 11.37\n",
      "Episode 500\tAverage Score: 12.53\n",
      "Episode 600\tAverage Score: 13.27\n",
      "Episode 697\tAverage Score: 15.02\n",
      "Environment solved in 597 episodes!\tAverage Score: 15.02\n"
     ]
    }
   ],
   "source": [
    "def dqn(n_episodes=2000, max_t=1000, eps_start=1.0, eps_end=0.01, eps_decay=0.995):\n",
    "    \"\"\"Duelling Double Deep Q-Learning.\n",
    "    \n",
    "    Params\n",
    "    ======\n",
    "        n_episodes (int): maximum number of training episodes\n",
    "        max_t (int): maximum number of timesteps per episode\n",
    "        eps_start (float): starting value of epsilon, for epsilon-greedy action selection\n",
    "        eps_end (float): minimum value of epsilon\n",
    "        eps_decay (float): multiplicative factor (per episode) for decreasing epsilon\n",
    "    \"\"\"\n",
    "    scores = []                        # list containing scores from each episode\n",
    "    scores_window = deque(maxlen=100)  # last 100 scores\n",
    "    eps = eps_start                    # initialize epsilon\n",
    "    for i_episode in range(1, n_episodes+1):\n",
    "        # reset the environment\n",
    "        env_info = env.reset(train_mode=True)[brain_name]\n",
    "        state = env_info.vector_observations[0]  ##env.reset()\n",
    "        score = 0\n",
    "        for t in range(max_t):\n",
    "            action = agent.act(state, eps)\n",
    "            env_info = env.step(action)[brain_name]\n",
    "            next_state = env_info.vector_observations[0]   # get the next state\n",
    "            reward = env_info.rewards[0]                   # get the reward\n",
    "            done = env_info.local_done[0]                  # see if episode has finished\n",
    "            agent.step(state, action, reward, next_state, done)\n",
    "            state = next_state\n",
    "            score += reward\n",
    "            if done:\n",
    "                break \n",
    "        scores_window.append(score)       # save most recent score\n",
    "        scores.append(score)              # save most recent score\n",
    "        eps = max(eps_end, eps_decay*eps) # decrease epsilon\n",
    "        print('\\rEpisode {}\\tAverage Score: {:.2f}'.format(i_episode, np.mean(scores_window)), end=\"\")\n",
    "        if i_episode % 100 == 0:\n",
    "            print('\\rEpisode {}\\tAverage Score: {:.2f}'.format(i_episode, np.mean(scores_window)))\n",
    "        if np.mean(scores_window)>=15.0:\n",
    "            print('\\nEnvironment solved in {:d} episodes!\\tAverage Score: {:.2f}'.format(i_episode-100, np.mean(scores_window)))\n",
    "            torch.save(agent.qnetwork_local.state_dict(), 'checkpoint.pth')\n",
    "            break\n",
    "    return scores\n",
    "\n",
    "scores = dqn()"
   ]
  },
  {
   "cell_type": "code",
   "execution_count": 10,
   "metadata": {},
   "outputs": [
    {
     "data": {
      "image/png": "[encoded data removed]",
      "text/plain": [
       "<matplotlib.figure.Figure at 0x7f9e455720b8>"
      ]
     },
     "metadata": {
      "needs_background": "light"
     },
     "output_type": "display_data"
    },
    {
     "name": "stdout",
     "output_type": "stream",
     "text": [
      "Score: [-1.0, 1.0, -1.0, -1.0, 1.0, -1.0, 0.0, -3.0, 1.0, 0.0, -1.0, 0.0, 0.0, -1.0, 2.0, 0.0, 0.0, -1.0, -1.0, -1.0, 2.0, 1.0, 0.0, -1.0, -2.0, -2.0, 0.0, 2.0, -2.0, 1.0, 0.0, 0.0, 1.0, 0.0, -1.0, -1.0, 1.0, 1.0, 1.0, 0.0, -1.0, 0.0, 2.0, 0.0, 1.0, 1.0, 0.0, 1.0, 1.0, 1.0, -1.0, 0.0, 3.0, 2.0, 0.0, -1.0, 1.0, 0.0, 1.0, -1.0, 3.0, 1.0, 2.0, -3.0, 1.0, 2.0, 2.0, 2.0, 0.0, 1.0, 2.0, 0.0, 2.0, 1.0, -1.0, 1.0, 2.0, 3.0, 2.0, 1.0, 3.0, 3.0, 5.0, 1.0, 2.0, 2.0, 6.0, 3.0, 2.0, 0.0, 4.0, 3.0, 0.0, -1.0, 2.0, 3.0, 2.0, 0.0, 2.0, 0.0, 4.0, 3.0, 1.0, 5.0, 3.0, 2.0, 5.0, 8.0, 3.0, 0.0, 3.0, 2.0, 2.0, 4.0, 2.0, 0.0, 4.0, 3.0, 6.0, 3.0, 5.0, 4.0, 1.0, 4.0, 3.0, 2.0, 1.0, 4.0, 6.0, 3.0, 5.0, 4.0, 4.0, 6.0, 4.0, 5.0, 5.0, 2.0, 4.0, 2.0, 6.0, 7.0, 4.0, 4.0, 5.0, 7.0, 1.0, 5.0, 5.0, 5.0, 1.0, 2.0, 8.0, 6.0, 1.0, 1.0, 6.0, 1.0, 4.0, 5.0, 9.0, 10.0, 5.0, 6.0, 4.0, 7.0, 2.0, 5.0, 2.0, 9.0, 5.0, 7.0, 5.0, 8.0, 3.0, 10.0, 5.0, 9.0, 4.0, 6.0, 5.0, 6.0, 4.0, 4.0, 3.0, 8.0, 7.0, 2.0, 8.0, 8.0, 5.0, 5.0, 12.0, 7.0, 1.0, 9.0, 3.0, 8.0, 9.0, 8.0, 4.0, 3.0, 8.0, 2.0, 4.0, 6.0, 11.0, 7.0, 8.0, 8.0, 2.0, 7.0, 12.0, 3.0, 0.0, 2.0, 9.0, 7.0, 6.0, 3.0, 3.0, 10.0, 10.0, 6.0, 5.0, 11.0, 9.0, 7.0, 3.0, 3.0, 6.0, 6.0, 3.0, 4.0, 4.0, 7.0, 7.0, 8.0, 0.0, 5.0, 13.0, 13.0, 8.0, 4.0, 8.0, 16.0, 6.0, 6.0, 7.0, 3.0, 2.0, 12.0, 2.0, 6.0, 6.0, 8.0, 2.0, 7.0, 13.0, 9.0, 3.0, 3.0, 12.0, 11.0, 8.0, 9.0, 2.0, 9.0, 13.0, 3.0, 9.0, 3.0, 6.0, 15.0, 8.0, 12.0, 11.0, 9.0, 9.0, 12.0, 4.0, 6.0, 10.0, 9.0, 13.0, 13.0, 12.0, 7.0, 8.0, 15.0, 7.0, 5.0, 13.0, 12.0, 8.0, 8.0, 4.0, 11.0, 15.0, 1.0, 17.0, 6.0, 5.0, 11.0, 4.0, 12.0, 11.0, 7.0, 2.0, 15.0, 11.0, 9.0, 10.0, 9.0, 12.0, 3.0, 12.0, 6.0, 10.0, 2.0, 7.0, 5.0, 4.0, 2.0, 10.0, 8.0, 8.0, 9.0, 10.0, 8.0, 8.0, 17.0, 10.0, 16.0, 7.0, 8.0, 9.0, 13.0, 10.0, 12.0, 12.0, 3.0, 11.0, 12.0, 10.0, 7.0, 15.0, 10.0, 13.0, 11.0, 11.0, 7.0, 3.0, 10.0, 9.0, 8.0, 13.0, 15.0, 10.0, 14.0, 12.0, 7.0, 11.0, 14.0, 4.0, 3.0, 10.0, 9.0, 11.0, 1.0, 6.0, 4.0, 4.0, 11.0, 5.0, 7.0, 6.0, 9.0, 7.0, 11.0, 11.0, 8.0, 17.0, 17.0, 13.0, 20.0, 13.0, 12.0, 13.0, 2.0, 11.0, 10.0, 11.0, 14.0, 13.0, 13.0, 9.0, 13.0, 16.0, 13.0, 15.0, 14.0, 10.0, 12.0, 19.0, 12.0, 12.0, 12.0, 17.0, 14.0, 9.0, 16.0, 9.0, 15.0, 17.0, 18.0, 14.0, 12.0, 15.0, 17.0, 8.0, 12.0, 11.0, 12.0, 11.0, 14.0, 9.0, 19.0, 11.0, 14.0, 14.0, 2.0, 3.0, 5.0, 13.0, 13.0, 11.0, 6.0, 13.0, 10.0, 12.0, 19.0, 13.0, 17.0, 9.0, 16.0, 5.0, 14.0, 9.0, 15.0, 17.0, 12.0, 19.0, 5.0, 18.0, 11.0, 18.0, 11.0, 13.0, 12.0, 12.0, 16.0, 15.0, 12.0, 9.0, 15.0, 14.0, 11.0, 17.0, 18.0, 14.0, 10.0, 17.0, 14.0, 13.0, 5.0, 9.0, 12.0, 10.0, 13.0, 7.0, 15.0, 19.0, 15.0, 13.0, 14.0, 11.0, 19.0, 17.0, 11.0, 17.0, 5.0, 13.0, 15.0, 10.0, 22.0, 15.0, 10.0, 14.0, 10.0, 18.0, 12.0, 6.0, 14.0, 9.0, 14.0, 10.0, 18.0, 15.0, 14.0, 15.0, 11.0, 15.0, 17.0, 10.0, 10.0, 13.0, 8.0, 17.0, 14.0, 15.0, 18.0, 16.0, 16.0, 11.0, 23.0, 17.0]\n"
     ]
    }
   ],
   "source": [
    "fig = plt.figure()\n",
    "ax = fig.add_subplot(111)\n",
    "plt.plot(np.arange(len(scores)), scores)\n",
    "plt.ylabel('Score')\n",
    "plt.xlabel('Episode #')\n",
    "plt.show()\n",
    "print(\"Score: {}\".format(scores))"
   ]
  },
  {
   "cell_type": "code",
   "execution_count": 17,
   "metadata": {},
   "outputs": [],
   "source": [
    "agent.qnetwork_local.load_state_dict(torch.load('checkpoint.pth'))"
   ]
  },
  {
   "cell_type": "code",
   "execution_count": 19,
   "metadata": {},
   "outputs": [
    {
     "name": "stdout",
     "output_type": "stream",
     "text": [
      "Score: 22.0\n"
     ]
    }
   ],
   "source": [
    "env_info = env.reset(train_mode=False)[brain_name] # reset the environment\n",
    "state = env_info.vector_observations[0]            # get the current state\n",
    "score = 0                                          # initialize the score\n",
    "\n",
    "while True:\n",
    "    action = (int)(agent.act(state, 0.01))         # select an action\n",
    "    env_info = env.step(action)[brain_name]        # send the action to the environment\n",
    "    next_state = env_info.vector_observations[0]   # get the next state\n",
    "    reward = env_info.rewards[0]                   # get the reward\n",
    "    done = env_info.local_done[0]                  # see if episode has finished\n",
    "    score += reward                                # update the score\n",
    "    state = next_state                             # roll over the state to next time step\n",
    "    if done:                                       # exit loop if episode finished\n",
    "        break\n",
    "    \n",
    "print(\"Score: {}\".format(score))"
   ]
  },
  {
   "cell_type": "code",
   "execution_count": null,
   "metadata": {},
   "outputs": [],
   "source": []
  }
 ],
 "metadata": {
  "kernelspec": {
   "display_name": "Python 3",
   "language": "python",
   "name": "python3"
  },
  "language_info": {
   "codemirror_mode": {
    "name": "ipython",
    "version": 3
   },
   "file_extension": ".py",
   "mimetype": "text/x-python",
   "name": "python",
   "nbconvert_exporter": "python",
   "pygments_lexer": "ipython3",
   "version": "3.6.3"
  }
 },
 "nbformat": 4,
 "nbformat_minor": 2
}
